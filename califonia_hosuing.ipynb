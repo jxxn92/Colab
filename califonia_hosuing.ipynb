{
  "nbformat": 4,
  "nbformat_minor": 0,
  "metadata": {
    "colab": {
      "provenance": []
    },
    "kernelspec": {
      "name": "python3",
      "display_name": "Python 3"
    },
    "language_info": {
      "name": "python"
    }
  },
  "cells": [
    {
      "cell_type": "code",
      "execution_count": 20,
      "metadata": {
        "colab": {
          "base_uri": "https://localhost:8080/"
        },
        "id": "RyM_SKdoOcRY",
        "outputId": "bf4cc3d8-4635-4c43-ba1e-a7b9afd9be82"
      },
      "outputs": [
        {
          "output_type": "stream",
          "name": "stdout",
          "text": [
            "   MedInc  HouseAge  AveRooms  AveBedrms  Population  AveOccup  Latitude  \\\n",
            "0  8.3252      41.0  6.984127   1.023810       322.0  2.555556     37.88   \n",
            "1  8.3014      21.0  6.238137   0.971880      2401.0  2.109842     37.86   \n",
            "2  7.2574      52.0  8.288136   1.073446       496.0  2.802260     37.85   \n",
            "3  5.6431      52.0  5.817352   1.073059       558.0  2.547945     37.85   \n",
            "4  3.8462      52.0  6.281853   1.081081       565.0  2.181467     37.85   \n",
            "\n",
            "   Longitude  target  \n",
            "0    -122.23   4.526  \n",
            "1    -122.22   3.585  \n",
            "2    -122.24   3.521  \n",
            "3    -122.25   3.413  \n",
            "4    -122.25   3.422  \n"
          ]
        }
      ],
      "source": [
        "import pandas as pd\n",
        "from sklearn.datasets import fetch_california_housing\n",
        "\n",
        "dataset = fetch_california_housing()\n",
        "dataFrame = pd.DataFrame(dataset[\"data\"]) # 데이터셋에 데이터 불러오기\n",
        "dataFrame.columns = dataset[\"feature_names\"] # 특징의 이름 불러오기\n",
        "dataFrame[\"target\"] = dataset[\"target\"] # 데이터프레임에 정답 추가\n",
        "\n",
        "print(dataFrame.head()) # 데이터 프레임을 요약해서 출력\n"
      ]
    },
    {
      "cell_type": "code",
      "source": [
        "import torch\n",
        "import torch.nn as nn\n",
        "from torch.optim.adam import Adam\n",
        "\n",
        "model = nn.Sequential(\n",
        "    nn.Linear(9,100),\n",
        "    nn.ReLU(),\n",
        "    nn.Linear(100,1)\n",
        ")\n",
        "\n",
        "X = dataFrame.iloc[:, :9].values # 정답을 제외한 특징을 x에 입력\n",
        "Y = dataFrame[\"target\"].values # 데이터프레임의 target 값을 추출\n",
        "\n",
        "batch_size = 100\n",
        "learning_rate = 0.001\n",
        "\n",
        "\n",
        "# 가중치를 수정하는 최적화 함수 정의\n",
        "optim = Adam(model.parameters(), lr = learning_rate)\n",
        "\n",
        "# 에포크 반\n",
        "for epoch in range(250):\n",
        "    # 배치 반복\n",
        "    for i in range(len(X)//batch_size):\n",
        "        start = i * batch_size\n",
        "        end = start + batch_size\n",
        "\n",
        "    # 파이토치 실수형 텐서로 변\n",
        "    x = torch.FloatTensor(X[start:end]) # 배치 크기에 맞게 인덱스 지정\n",
        "    y = torch.FloatTensor(Y[start:end])\n",
        "\n",
        "    optim.zero_grad() # 가중치의 기울기를 0으로 초기\n",
        "    preds = model(x) # 모델치의 예측값 계\n",
        "    loss = nn.MSELoss()(preds,y) # MSE 손실 계산\n",
        "    loss.backward() # 오차 역전파\n",
        "    optim.step() # 최적화 진행\n",
        "\n",
        "    if epoch % 20 == 0:\n",
        "        print(f\"epoch:{epoch} loss:{loss.item()}\")\n",
        "\n",
        "prediction = model(torch.FloatTensor(X[0, :9]))\n",
        "real = Y[0]\n",
        "print(f\"prediction:{prediction.item()} real:{real}\")\n"
      ],
      "metadata": {
        "colab": {
          "base_uri": "https://localhost:8080/"
        },
        "id": "27x17C_YOijv",
        "outputId": "9878cd8a-429d-4b1c-a91a-2a9c8fe86ae6"
      },
      "execution_count": 76,
      "outputs": [
        {
          "output_type": "stream",
          "name": "stdout",
          "text": [
            "epoch:0 loss:402.4792785644531\n",
            "epoch:20 loss:15.464574813842773\n",
            "epoch:40 loss:5.008484363555908\n",
            "epoch:60 loss:1.0694044828414917\n",
            "epoch:80 loss:0.7602840662002563\n",
            "epoch:100 loss:0.6534878611564636\n",
            "epoch:120 loss:0.622005045413971\n",
            "epoch:140 loss:0.607873260974884\n",
            "epoch:160 loss:0.5985308885574341\n",
            "epoch:180 loss:0.5914245843887329\n",
            "epoch:200 loss:0.5866170525550842\n",
            "epoch:220 loss:0.5831726789474487\n",
            "epoch:240 loss:0.5805800557136536\n",
            "prediction:2.1336121559143066 real:4.526\n"
          ]
        }
      ]
    },
    {
      "cell_type": "code",
      "source": [],
      "metadata": {
        "id": "8Dn06oNsYrZl"
      },
      "execution_count": null,
      "outputs": []
    }
  ]
}